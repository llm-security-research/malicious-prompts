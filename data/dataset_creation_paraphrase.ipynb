{
 "cells": [
  {
   "cell_type": "code",
   "execution_count": 58,
   "metadata": {},
   "outputs": [],
   "source": [
    "import pandas as pd\n",
    "import numpy as np"
   ]
  },
  {
   "cell_type": "code",
   "execution_count": 59,
   "metadata": {},
   "outputs": [
    {
     "name": "stdout",
     "output_type": "stream",
     "text": [
      "       category    base_class   \n",
      "0  conversation  conversation  \\\n",
      "1  conversation  conversation   \n",
      "2  conversation  conversation   \n",
      "3  conversation  conversation   \n",
      "4  conversation  conversation   \n",
      "\n",
      "                                                text  \n",
      "0                             hi, how are you doing?  \n",
      "1                hello! i am wonderful and yourself?  \n",
      "2               i am doing well. what are you up to?  \n",
      "3  just got in from my garden. i was seeing if my...  \n",
      "4  i am having dinner at my apartment with my 3 s...  \n",
      "     category  base_class                                               text\n",
      "1576   act_as  paraphrase  I require your role as a historian, where you ...\n",
      "1577   act_as  paraphrase  I would like for you to adopt the role of a So...\n",
      "1578   act_as  paraphrase  I would appreciate it if you could adopt the p...\n",
      "1579   act_as  paraphrase  I would appreciate it if you could assume the ...\n",
      "1580   act_as  paraphrase  Can you assume the role of a psychologist? I w...\n"
     ]
    }
   ],
   "source": [
    "malignant_paraphrase = pd.read_csv(\"./processed/malignant_paraphrase.csv\")\n",
    "print(malignant_paraphrase.head())\n",
    "print(malignant_paraphrase.tail())"
   ]
  },
  {
   "cell_type": "code",
   "execution_count": 60,
   "metadata": {},
   "outputs": [],
   "source": [
    "from sentence_transformers import SentenceTransformer\n",
    "model = SentenceTransformer('paraphrase-multilingual-MiniLM-L12-v2')"
   ]
  },
  {
   "cell_type": "code",
   "execution_count": 61,
   "metadata": {},
   "outputs": [
    {
     "name": "stdout",
     "output_type": "stream",
     "text": [
      "['hi, how are you doing?', 'hello! i am wonderful and yourself?', 'i am doing well. what are you up to?', 'just got in from my garden. i was seeing if my carrots are ready to harvest.', 'i am having dinner at my apartment with my 3 sisters']\n",
      "['I require your role as a historian, where you shall investigate and evaluate occurrences of culture, economy, politics, and society in previous epochs. Your objective entails gathering primary source data to construct hypotheses regarding diverse historical eras. My initial plea is for assistance in unearthing details concerning labor strikes in London during the early 20th century.', 'I would like for you to adopt the role of a Socrat. Your task is to employ the Socratic method to challenge my beliefs. I will present a statement, and your goal is to continually interrogate each statement to assess my reasoning. Your responses should be limited to one sentence. To begin, my initial assertion is \"a society cannot function without justice.\"', 'I would appreciate it if you could adopt the persona of a Socrat and utilize the Socratic method to continuously interrogate my convictions. I will state a belief, and then you are expected to continually inquire about each assertion to evaluate the soundness of my reasoning. It would be ideal if you could respond with concise statements. To start, I assert that \"a society requires justice.\"', \"I would appreciate it if you could assume the role of a psychologist for a moment. I am willing to share my thoughts with you and would like to receive scientifically-based suggestions that could improve my well-being. To begin, here's my initial thought: {Please input your own thought here. If you provide further elaboration, I believe the resulting answer will be more precise.}\", \"Can you assume the role of a psychologist? I would like to share my thoughts with you and receive scientific suggestions to improve my well-being. Here's my initial thought. To ensure a more precise response, elaborating on your thoughts may greatly help.\"]\n",
      "1581\n"
     ]
    }
   ],
   "source": [
    "sentences = malignant_paraphrase['text'].tolist()\n",
    "print(sentences[:5])\n",
    "print(sentences[-5:])\n",
    "print(len(sentences))"
   ]
  },
  {
   "cell_type": "code",
   "execution_count": 62,
   "metadata": {},
   "outputs": [],
   "source": [
    "sentence_embeddings = model.encode(sentences)\n",
    "print(sentence_embeddings[0][0])\n",
    "print(len(sentence_embeddings))\n",
    "print(len(sentence_embeddings[0]))"
   ]
  },
  {
   "cell_type": "code",
   "execution_count": null,
   "metadata": {},
   "outputs": [
    {
     "name": "stdout",
     "output_type": "stream",
     "text": [
      "[-0.15246445, 0.44027, -0.13281824, -0.056753777, -0.21207231, 0.09964819, 0.11272599, 0.12083928, -0.029872173, 0.15073267, -0.07507354, 0.12749442, 0.050634354, -0.10196499, 0.12704313, -0.10043261, 0.0921369, 0.13782972, -0.050530396, 0.10560249, 0.11985982, 0.3205173, 0.29194117, 0.04559365, 0.13783464, 0.1305032, 0.28596717, 0.1546138, 0.11950649, -0.491188, 0.050554473, 0.35738796, -0.019993428, 0.06004488, -0.0351106, 0.12155302, -0.3243209, 0.0069549913, -0.052109413, -0.022405785, 0.33512884, 0.11035913, 0.12305881, -0.3512754, 0.103412345, 0.06652027, -0.19960374, -0.141172, -0.15451479, -0.12790418, -0.09902506, 0.30527353, 0.04739266, -0.32291582, 0.16026859, 0.14953642, -0.20128345, 0.30136064, -0.16514917, -0.18179598, -0.019223507, 0.121457696, -0.21683052, 0.061240185, -0.22791277, -0.09869029, 0.007797721, -0.39414722, -0.021562155, -0.29429266, -0.100351155, 0.19408193, 0.14720538, -0.21823451, 0.0016903519, -0.02396256, 0.12539805, -0.030407615, 0.115952685, -0.2929318, 0.060754083, -0.35064813, 0.013645964, -0.004493816, 0.122101545, -0.14217949, 0.052820526, -0.05164369, 0.12649891, -0.01150289, 0.11949514, -0.0138061885, -0.08241409, 0.03920056, -0.076595135, -0.2498678, 0.054041177, 0.05903596, -0.3620562, 0.46089274, -0.29653794, 0.26508602, -0.09558585, -0.113557704, 0.3308218, 0.060197685, 0.07111173, -0.17801194, -0.23670723, -0.052827936, 0.20177713, -0.24975124, 0.1140696, -0.32958046, 0.23892501, 0.02120279, -0.22694136, -0.018413868, 0.04440043, -0.21981579, -0.28258064, 0.04317049, -0.04592748, 0.17477123, -0.063900314, -0.2977454, -0.13478217, 0.12478511, -0.28647223, -0.056946836, -0.25751266, 0.045110222, -0.10004758, 0.14414193, -0.08692218, 0.082814425, 0.25892335, -0.23415312, -0.056636374, 0.27490705, -0.050401296, 0.24412951, 0.23595534, 0.18257241, -0.041763328, 0.011478189, 0.3960641, -0.19177093, -0.11622102, -0.18993115, -0.47658688, -0.19606283, 0.067922935, 0.1847801, 0.39606413, -0.18232691, 0.04949204, -0.032848064, -0.30815217, 0.17023304, -0.0757339, -0.058658108, 0.13591827, 0.16325395, -0.27412087, 0.13538551, -0.051591814, -0.058096405, -0.021434303, 0.11193152, 0.07313811, -0.2740296, 0.12632233, -0.021397237, 0.084854215, -0.11964977, -0.22399229, 0.24950011, 0.14296883, -0.046609662, -0.05650585, -0.14157571, -0.039762624, -0.0916797, -0.22213261, 0.07296812, -0.11758305, 0.42088148, -0.085919805, -0.007954374, -0.25665563, 0.15097949, -0.16315956, 0.027979571, -0.027486645, -0.1608923, 0.07951473, 0.26803994, -0.053179182, 0.20753205, -0.28632802, -0.23956242, -0.13838825, -0.28324455, -0.16056146, -0.21138293, -0.023619272, 0.00037931162, 0.11224018, 0.10143512, 0.17047699, -0.13470012, -0.12591243, -0.11819395, 0.1553222, 0.062251963, -0.014261162, 0.053315863, -0.06269601, -0.034820564, 0.13038774, -0.15768111, 0.09880311, -0.29052633, 0.093089476, 0.044105597, -0.013053234, 0.015519625, -0.02336595, -0.14216322, 0.048756693, 0.029191736, 0.10590598, -0.19585192, -0.39045042, 0.00270278, 0.286251, -0.014900834, 0.065927, -0.2759322, -0.22397043, -0.26942778, 0.29223746, 0.16569304, 0.10226605, 0.11087689, -0.39507106, 0.13064091, 0.28420755, 0.27823764, 0.005125844, 0.33703387, -0.07652167, -0.08809236, 0.0029903287, -0.4484917, -0.32395178, 0.05686882, 0.120785, 0.092960574, 0.12888098, 0.19937009, -0.27471226, -0.14150305, 0.020918088, -0.40903816, -0.24289964, 0.31065792, 0.29298955, 0.13018478, -0.09070271, -0.14739883, 0.2555798, 0.13916837, -0.12642717, 0.07301751, 0.15668063, -0.30564052, -0.066097036, 0.19400604, -0.001199754, -0.12899604, 0.18538465, 0.1821133, 0.2445182, -0.39662674, 0.22755182, 0.16739132, -0.14282426, -0.13733524, 0.08149916, -0.048541464, 0.076291285, 0.031383555, -0.004175722, -0.28579432, -0.06949192, -0.09528491, 0.2688117, 0.19072528, -0.02417348, 0.12201328, -0.17825183, -0.028436884, 0.35735053, -0.07687322, -0.11780307, 0.08698887, -0.123338655, 0.06239102, 0.21099178, -0.24899179, -0.24201882, -0.020640485, -0.0030153487, 0.18561916, -0.13957226, 0.2712443, -0.049876805, -0.19491002, -0.016325982, -0.019142177, -0.034989435, -0.011299762, 0.18918873, 0.3664215, 0.11297681, -0.21778011, -0.008043329, -0.013948197, 0.1185796, 0.18167329, 0.020253066, 0.33138892, 0.3087371, 0.14996207, -0.04033415, -0.05868933, -0.15962966, 0.15035284, 0.42243168, 0.010316733, -0.24917434, -0.053922497, 0.15926006, 0.013942001, -0.009769128, 0.103489585, 0.102309704, 0.0852496, 0.3056798, -0.048044756, -0.116351336, 0.2992798, -0.10961829, -0.28473204, 0.031587638, -0.008271888, 0.00018568337, 0.10058454, 0.10639931, 0.22413647, 0.0736974, 0.3989377, -0.25600058, -0.18193965, 0.40546113, -0.26306146, 0.21569586, -0.1259062, -0.028565057, 0.17378269, -0.048732318, -0.29609227, 0.3328948, 0.12126563, 0.053835034, -0.24184062, -0.3869167, 0.11125533, -0.109448805, 0.16408727, -0.13932467, 0.16826543]\n",
      "0.6487895\n"
     ]
    }
   ],
   "source": [
    "embedding_strings = [\", \".join(map(str, row)) for row in sentence_embeddings]\n",
    "for i, embedding_string in enumerate(embedding_strings):\n",
    "    embedding_string = \"[\" + embedding_string + \"]\"\n",
    "    embedding_strings[i] = embedding_string\n",
    "print(embedding_strings[-1])\n",
    "print(sentence_embeddings[0][0])\n",
    "malignant_paraphrase['embedding'] = embedding_strings\n",
    "malignant_paraphrase.head()\n",
    "malignant_paraphrase.to_csv('./processed/malignant_paraphrase_embedding.csv', index=False)"
   ]
  }
 ],
 "metadata": {
  "kernelspec": {
   "display_name": "Python 3",
   "language": "python",
   "name": "python3"
  },
  "language_info": {
   "codemirror_mode": {
    "name": "ipython",
    "version": 3
   },
   "file_extension": ".py",
   "mimetype": "text/x-python",
   "name": "python",
   "nbconvert_exporter": "python",
   "pygments_lexer": "ipython3",
   "version": "3.9.13"
  }
 },
 "nbformat": 4,
 "nbformat_minor": 2
}
